{
 "cells": [
  {
   "cell_type": "markdown",
   "metadata": {},
   "source": [
    "### 1. Deps"
   ]
  },
  {
   "cell_type": "code",
   "execution_count": null,
   "metadata": {},
   "outputs": [],
   "source": [
    "!pipenv install torch torchvision tensorboard torchaudio git+https://github.com/DLR-RM/stable-baselines3 protobuf==3.20.* mss pydirectinput pytesseract opencv-python gym shimmy"
   ]
  },
  {
   "cell_type": "code",
   "execution_count": 160,
   "metadata": {},
   "outputs": [],
   "source": [
    "# mss used for screen capture\n",
    "from mss import mss\n",
    "# sending commands to the game\n",
    "import pydirectinput\n",
    "# opencv allows frame processing\n",
    "import cv2\n",
    "# transformational framework\n",
    "import numpy as np\n",
    "# OCR for game over extraction\n",
    "import pytesseract\n",
    "# visualiaze captured frames\n",
    "from matplotlib import pyplot as plt\n",
    "# pauses\n",
    "import time\n",
    "# environment components\n",
    "from gym import Env\n",
    "from gym.spaces import Box, Discrete"
   ]
  },
  {
   "cell_type": "code",
   "execution_count": 161,
   "metadata": {},
   "outputs": [],
   "source": [
    "pytesseract.pytesseract.tesseract_cmd = 'C:\\Program Files\\Tesseract-OCR\\\\tesseract.exe'; # change to your tesseract path"
   ]
  },
  {
   "cell_type": "markdown",
   "metadata": {},
   "source": [
    "### 2. Building the environment"
   ]
  },
  {
   "cell_type": "markdown",
   "metadata": {},
   "source": [
    "#### 2.1 Create environment"
   ]
  },
  {
   "cell_type": "code",
   "execution_count": 279,
   "metadata": {},
   "outputs": [],
   "source": [
    "class WebGame(Env):\n",
    "\t# setup the environment action and observation shapes\n",
    "\tdef __init__(self):\n",
    "\t\t# subclass model\n",
    "\t\tsuper().__init__()\n",
    "\n",
    "\t\t# setup spaces\n",
    "\t\tself.observation_space = Box(\n",
    "\t\t\tlow=0, high=255, shape=(1, 100, 150), dtype=np.uint8\n",
    "\t\t)\n",
    "\t\tself.action_space = Discrete(2)\n",
    "\n",
    "\t\t# define extraction paramenters for the game\n",
    "\t\tself.cap = mss()\n",
    "\t\tself.game_location = {\"top\": 200, \"left\": 120, \"width\": 750, \"height\": 500}\n",
    "\t\tself.done_location = {\"top\": 220, \"left\": 630, \"width\": 650, \"height\": 70}\n",
    "\t\tself.done_pixel_location = {\"top\": 254, \"left\": 678, \"width\": 5, \"height\": 2}\n",
    "\t\tself.day_or_night_observation_space = {\"top\": 150, \"left\": 150, \"width\": 10, \"height\": 10}\n",
    "\t\tself.action_map = {0: \"space\", 1: \"no_op\"}\n",
    "  \n",
    "\t# what is called to do someting in the game\n",
    "\tdef step(self, action):\n",
    "\t\tif action != 1:\n",
    "\t\t\tpydirectinput.press(self.action_map[action])\n",
    "\t\t\t\n",
    "\t\t# checking whether the game is done\n",
    "\t\tdone = self.get_done()\n",
    "\t\t# get the next observation\n",
    "\t\tnew_observation = self.get_observation()\n",
    "\t\t# reward - we get a point for every frame we're alive\n",
    "\t\treward = 1\n",
    "  \n",
    "\t\tinfo = {}\n",
    "\n",
    "\t\treturn new_observation, reward, done, info\n",
    "\n",
    "\t# visualize the game\n",
    "\tdef render(self):\n",
    "\t\tcv2.imshow('Game', np.array(self.cap.grab(self.game_location))[:,:,:3])\n",
    "\t\tif cv2.waitKey(1) & 0xFF == ord('q'):\n",
    "\t\t\tself.close()\n",
    "\t\n",
    "\t# this closes down the observation\n",
    "\tdef close(self):\n",
    "\t\tcv2.destroyAllWindows()\n",
    "\n",
    "\t# reset the game\n",
    "\tdef reset(self):\n",
    "\t\ttime.sleep(1)\n",
    "\t\tpydirectinput.click(x=150, y=150)\n",
    "\t\tpydirectinput.press('space')\n",
    "\t\treturn self.get_observation()\n",
    "\n",
    "\t# get the part of the observation of the game that we want\n",
    "\tdef get_observation(self):\n",
    "\t\t# get screen capture of game\n",
    "\t\traw = np.array(self.cap.grab(self.game_location))[:, :, :3]\n",
    "\n",
    "\t\t# grayscale\n",
    "\t\tgray = cv2.cvtColor(raw, cv2.COLOR_BGR2GRAY)\n",
    "\t\t# resize\n",
    "\t\tresized = cv2.resize(gray, (150, 100))\n",
    "\t\t# add chanels first\n",
    "\t\tchannel = np.reshape(resized, (1, 100, 150))\n",
    "\n",
    "\t\treturn channel\n",
    "\n",
    "\tdef get_done(self):\n",
    "\t\tis_day = True;\n",
    "\t\tdone = False\n",
    "     \n",
    "\t\tday_or_night_space = np.array(self.cap.grab(self.day_or_night_observation_space))[:, :, :3]\n",
    "\t\tif all(day_or_night_space[0][0] == [255, 255, 255]):\n",
    "\t\t\tis_day = True\n",
    "\t\telse:\n",
    "\t\t\tis_day = False\n",
    "   \n",
    "\t\tdone_pixel_cap = np.array(self.cap.grab(self.done_pixel_location))[:, :, :3]\n",
    "\t\tif is_day:\n",
    "\t\t\tif all(done_pixel_cap[0][0] == [83, 83, 83]):\n",
    "\t\t\t\tdone = True\n",
    "\t\telse:\n",
    "\t\t\tif all(done_pixel_cap[0][0] == [172, 172, 172]):\n",
    "\t\t\t\tdone = True\n",
    "\n",
    "\t\treturn done"
   ]
  },
  {
   "cell_type": "code",
   "execution_count": 280,
   "metadata": {},
   "outputs": [],
   "source": [
    "env = WebGame()"
   ]
  },
  {
   "cell_type": "code",
   "execution_count": null,
   "metadata": {},
   "outputs": [],
   "source": [
    "done = env.get_done()\n",
    "print(done)"
   ]
  },
  {
   "cell_type": "code",
   "execution_count": null,
   "metadata": {},
   "outputs": [],
   "source": [
    "plt.imshow(cv2.cvtColor(env.get_observation()[0], cv2.COLOR_BGR2RGB))"
   ]
  },
  {
   "cell_type": "markdown",
   "metadata": {},
   "source": [
    "#### 2.2 Test environment"
   ]
  },
  {
   "cell_type": "code",
   "execution_count": null,
   "metadata": {},
   "outputs": [],
   "source": [
    "# play 10 games\n",
    "for episode in range(10):\n",
    "\tobs = env.reset()\n",
    "\tdone = False\n",
    "\ttotal_reward = 0\n",
    "\t\n",
    "\twhile not done:\n",
    "\t\tobs, reward, done, info = env.step(env.action_space.sample())\n",
    "\t\ttotal_reward += reward;\n",
    "\t\t\n",
    "\tprint(f'Total reward for episode {episode} is {total_reward}')"
   ]
  },
  {
   "cell_type": "markdown",
   "metadata": {},
   "source": [
    "### 3. Train the model"
   ]
  },
  {
   "cell_type": "markdown",
   "metadata": {},
   "source": [
    "#### 3.1 Create Callback"
   ]
  },
  {
   "cell_type": "code",
   "execution_count": 226,
   "metadata": {},
   "outputs": [],
   "source": [
    "# import os for file path management\n",
    "import os\n",
    "# import  base callback for saving models\n",
    "from stable_baselines3.common.callbacks import BaseCallback\n",
    "# check environment\n",
    "from stable_baselines3.common import env_checker"
   ]
  },
  {
   "cell_type": "code",
   "execution_count": null,
   "metadata": {},
   "outputs": [],
   "source": [
    "# check that the environment is ok\n",
    "env_checker.check_env(env)"
   ]
  },
  {
   "cell_type": "code",
   "execution_count": 273,
   "metadata": {},
   "outputs": [],
   "source": [
    "class TrainAndLoggingCallback(BaseCallback):\n",
    "    def __init__(self, check_freq, save_path, verbose=1):\n",
    "        super(TrainAndLoggingCallback, self).__init__(verbose)\n",
    "        self.check_freq = check_freq\n",
    "        self.save_path = save_path\n",
    "        \n",
    "    def _init_callback(self):\n",
    "        if self.save_path is not None:\n",
    "            os.makedirs(self.save_path, exist_ok=True)\n",
    "            \n",
    "    def _on_step(self):\n",
    "        if self.n_calls % self.check_freq == 0:\n",
    "            model_path = os.path.join(self.save_path, 'best_model_{}'.format(self.n_calls))\n",
    "            self.model.save(model_path)\n",
    "            \n",
    "        return True"
   ]
  },
  {
   "cell_type": "code",
   "execution_count": 274,
   "metadata": {},
   "outputs": [],
   "source": [
    "CHECKPOINT_DIR = './train/'\n",
    "LOG_DIR = './logs/'"
   ]
  },
  {
   "cell_type": "code",
   "execution_count": 275,
   "metadata": {},
   "outputs": [],
   "source": [
    "callback = TrainAndLoggingCallback(check_freq=1000, save_path=CHECKPOINT_DIR)"
   ]
  },
  {
   "cell_type": "markdown",
   "metadata": {},
   "source": [
    "#### 3.2 Build DQN and Train"
   ]
  },
  {
   "cell_type": "code",
   "execution_count": 276,
   "metadata": {},
   "outputs": [],
   "source": [
    "# import the DQN algorithm\n",
    "from stable_baselines3 import DQN"
   ]
  },
  {
   "cell_type": "code",
   "execution_count": null,
   "metadata": {},
   "outputs": [],
   "source": [
    "# create the DQN model\n",
    "model = DQN(\n",
    "    'CnnPolicy',\n",
    "    env,\n",
    "    tensorboard_log=LOG_DIR,\n",
    "    verbose=1,\n",
    "    buffer_size=30000,\n",
    "    learning_starts=0\n",
    ")"
   ]
  },
  {
   "cell_type": "code",
   "execution_count": null,
   "metadata": {},
   "outputs": [],
   "source": [
    "model.learn(total_timesteps=100000, callback=callback)"
   ]
  },
  {
   "cell_type": "markdown",
   "metadata": {},
   "source": [
    "### 4. Test"
   ]
  }
 ],
 "metadata": {
  "kernelspec": {
   "display_name": "trexgame--9LppDr8",
   "language": "python",
   "name": "python3"
  },
  "language_info": {
   "codemirror_mode": {
    "name": "ipython",
    "version": 3
   },
   "file_extension": ".py",
   "mimetype": "text/x-python",
   "name": "python",
   "nbconvert_exporter": "python",
   "pygments_lexer": "ipython3",
   "version": "3.11.0"
  }
 },
 "nbformat": 4,
 "nbformat_minor": 2
}
